{
  "cells": [
    {
      "cell_type": "markdown",
      "metadata": {
        "id": "CcUT6Fon_qRE"
      },
      "source": [
        "### Required Assignment 5.1: Will the Customer Accept the Coupon?\n",
        "\n",
        "**Context**\n",
        "\n",
        "Imagine driving through town and a coupon is delivered to your cell phone for a restaurant near where you are driving. Would you accept that coupon and take a short detour to the restaurant? Would you accept the coupon but use it on a subsequent trip? Would you ignore the coupon entirely? What if the coupon was for a bar instead of a restaurant? What about a coffee house? Would you accept a bar coupon with a minor passenger in the car? What about if it was just you and your partner in the car? Would weather impact the rate of acceptance? What about the time of day?\n",
        "\n",
        "Obviously, proximity to the business is a factor on whether the coupon is delivered to the driver or not, but what are the factors that determine whether a driver accepts the coupon once it is delivered to them? How would you determine whether a driver is likely to accept a coupon?\n",
        "\n",
        "**Overview**\n",
        "\n",
        "The goal of this project is to use what you know about visualizations and probability distributions to distinguish between customers who accepted a driving coupon versus those that did not.\n",
        "\n",
        "**Data**\n",
        "\n",
        "This data comes to us from the UCI Machine Learning repository and was collected via a survey on Amazon Mechanical Turk. The survey describes different driving scenarios including the destination, current time, weather, passenger, etc., and then ask the person whether he will accept the coupon if he is the driver. Answers that the user will drive there ‘right away’ or ‘later before the coupon expires’ are labeled as ‘Y = 1’ and answers ‘no, I do not want the coupon’ are labeled as ‘Y = 0’.  There are five different types of coupons -- less expensive restaurants (under \\$20), coffee houses, carry out & take away, bar, and more expensive restaurants (\\$20 - $50)."
      ]
    },
    {
      "cell_type": "markdown",
      "metadata": {
        "id": "1wORvMBJ_qRF"
      },
      "source": [
        "**Deliverables**\n",
        "\n",
        "Your final product should be a brief report that highlights the differences between customers who did and did not accept the coupons.  To explore the data you will utilize your knowledge of plotting, statistical summaries, and visualization using Python. You will publish your findings in a public facing github repository as your first portfolio piece.\n",
        "\n",
        "\n",
        "\n"
      ]
    },
    {
      "cell_type": "markdown",
      "metadata": {
        "id": "pG6_Ym6q_qRG"
      },
      "source": [
        "### Data Description\n",
        "Keep in mind that these values mentioned below are average values.\n",
        "\n",
        "The attributes of this data set include:\n",
        "1. User attributes\n",
        "    -  Gender: male, female\n",
        "    -  Age: below 21, 21 to 25, 26 to 30, etc.\n",
        "    -  Marital Status: single, married partner, unmarried partner, or widowed\n",
        "    -  Number of children: 0, 1, or more than 1\n",
        "    -  Education: high school, bachelors degree, associates degree, or graduate degree\n",
        "    -  Occupation: architecture & engineering, business & financial, etc.\n",
        "    -  Annual income: less than \\\\$12500, \\\\$12500 - \\\\$24999, \\\\$25000 - \\\\$37499, etc.\n",
        "    -  Number of times that he/she goes to a bar: 0, less than 1, 1 to 3, 4 to 8 or greater than 8\n",
        "    -  Number of times that he/she buys takeaway food: 0, less than 1, 1 to 3, 4 to 8 or greater\n",
        "    than 8\n",
        "    -  Number of times that he/she goes to a coffee house: 0, less than 1, 1 to 3, 4 to 8 or\n",
        "    greater than 8\n",
        "    -  Number of times that he/she eats at a restaurant with average expense less than \\\\$20 per\n",
        "    person: 0, less than 1, 1 to 3, 4 to 8 or greater than 8\n",
        "    -  Number of times that he/she goes to a bar: 0, less than 1, 1 to 3, 4 to 8 or greater than 8\n",
        "    \n",
        "\n",
        "2. Contextual attributes\n",
        "    - Driving destination: home, work, or no urgent destination\n",
        "    - Location of user, coupon and destination: we provide a map to show the geographical\n",
        "    location of the user, destination, and the venue, and we mark the distance between each\n",
        "    two places with time of driving. The user can see whether the venue is in the same\n",
        "    direction as the destination.\n",
        "    - Weather: sunny, rainy, or snowy\n",
        "    - Temperature: 30F, 55F, or 80F\n",
        "    - Time: 10AM, 2PM, or 6PM\n",
        "    - Passenger: alone, partner, kid(s), or friend(s)\n",
        "\n",
        "\n",
        "3. Coupon attributes\n",
        "    - time before it expires: 2 hours or one day"
      ]
    },
    {
      "cell_type": "code",
      "execution_count": 1,
      "metadata": {
        "id": "dzNoP3o__qRG"
      },
      "outputs": [],
      "source": [
        "import matplotlib.pyplot as plt\n",
        "import seaborn as sns\n",
        "import pandas as pd\n",
        "import numpy as np"
      ]
    },
    {
      "cell_type": "markdown",
      "metadata": {
        "id": "Ct8pI1uE_qRG"
      },
      "source": [
        "### Problems\n",
        "\n",
        "Use the prompts below to get started with your data analysis.  \n",
        "\n",
        "1. Read in the `coupons.csv` file.\n",
        "\n",
        "\n"
      ]
    },
    {
      "cell_type": "code",
      "execution_count": 8,
      "metadata": {
        "id": "X0vbffYg_qRH"
      },
      "outputs": [],
      "source": [
        "data = pd.read_csv('data/coupons.csv')"
      ]
    },
    {
      "cell_type": "code",
      "execution_count": 9,
      "metadata": {
        "id": "TXofQ_DF_qRH",
        "outputId": "2fc96a2c-1112-4b54-f24f-dbb9bc88abfb"
      },
      "outputs": [
        {
          "data": {
            "text/html": [
              "<div>\n",
              "<style scoped>\n",
              "    .dataframe tbody tr th:only-of-type {\n",
              "        vertical-align: middle;\n",
              "    }\n",
              "\n",
              "    .dataframe tbody tr th {\n",
              "        vertical-align: top;\n",
              "    }\n",
              "\n",
              "    .dataframe thead th {\n",
              "        text-align: right;\n",
              "    }\n",
              "</style>\n",
              "<table border=\"1\" class=\"dataframe\">\n",
              "  <thead>\n",
              "    <tr style=\"text-align: right;\">\n",
              "      <th></th>\n",
              "      <th>destination</th>\n",
              "      <th>passanger</th>\n",
              "      <th>weather</th>\n",
              "      <th>temperature</th>\n",
              "      <th>time</th>\n",
              "      <th>coupon</th>\n",
              "      <th>expiration</th>\n",
              "      <th>gender</th>\n",
              "      <th>age</th>\n",
              "      <th>maritalStatus</th>\n",
              "      <th>...</th>\n",
              "      <th>CoffeeHouse</th>\n",
              "      <th>CarryAway</th>\n",
              "      <th>RestaurantLessThan20</th>\n",
              "      <th>Restaurant20To50</th>\n",
              "      <th>toCoupon_GEQ5min</th>\n",
              "      <th>toCoupon_GEQ15min</th>\n",
              "      <th>toCoupon_GEQ25min</th>\n",
              "      <th>direction_same</th>\n",
              "      <th>direction_opp</th>\n",
              "      <th>Y</th>\n",
              "    </tr>\n",
              "  </thead>\n",
              "  <tbody>\n",
              "    <tr>\n",
              "      <th>0</th>\n",
              "      <td>No Urgent Place</td>\n",
              "      <td>Alone</td>\n",
              "      <td>Sunny</td>\n",
              "      <td>55</td>\n",
              "      <td>2PM</td>\n",
              "      <td>Restaurant(&lt;20)</td>\n",
              "      <td>1d</td>\n",
              "      <td>Female</td>\n",
              "      <td>21</td>\n",
              "      <td>Unmarried partner</td>\n",
              "      <td>...</td>\n",
              "      <td>never</td>\n",
              "      <td>NaN</td>\n",
              "      <td>4~8</td>\n",
              "      <td>1~3</td>\n",
              "      <td>1</td>\n",
              "      <td>0</td>\n",
              "      <td>0</td>\n",
              "      <td>0</td>\n",
              "      <td>1</td>\n",
              "      <td>1</td>\n",
              "    </tr>\n",
              "    <tr>\n",
              "      <th>1</th>\n",
              "      <td>No Urgent Place</td>\n",
              "      <td>Friend(s)</td>\n",
              "      <td>Sunny</td>\n",
              "      <td>80</td>\n",
              "      <td>10AM</td>\n",
              "      <td>Coffee House</td>\n",
              "      <td>2h</td>\n",
              "      <td>Female</td>\n",
              "      <td>21</td>\n",
              "      <td>Unmarried partner</td>\n",
              "      <td>...</td>\n",
              "      <td>never</td>\n",
              "      <td>NaN</td>\n",
              "      <td>4~8</td>\n",
              "      <td>1~3</td>\n",
              "      <td>1</td>\n",
              "      <td>0</td>\n",
              "      <td>0</td>\n",
              "      <td>0</td>\n",
              "      <td>1</td>\n",
              "      <td>0</td>\n",
              "    </tr>\n",
              "    <tr>\n",
              "      <th>2</th>\n",
              "      <td>No Urgent Place</td>\n",
              "      <td>Friend(s)</td>\n",
              "      <td>Sunny</td>\n",
              "      <td>80</td>\n",
              "      <td>10AM</td>\n",
              "      <td>Carry out &amp; Take away</td>\n",
              "      <td>2h</td>\n",
              "      <td>Female</td>\n",
              "      <td>21</td>\n",
              "      <td>Unmarried partner</td>\n",
              "      <td>...</td>\n",
              "      <td>never</td>\n",
              "      <td>NaN</td>\n",
              "      <td>4~8</td>\n",
              "      <td>1~3</td>\n",
              "      <td>1</td>\n",
              "      <td>1</td>\n",
              "      <td>0</td>\n",
              "      <td>0</td>\n",
              "      <td>1</td>\n",
              "      <td>1</td>\n",
              "    </tr>\n",
              "    <tr>\n",
              "      <th>3</th>\n",
              "      <td>No Urgent Place</td>\n",
              "      <td>Friend(s)</td>\n",
              "      <td>Sunny</td>\n",
              "      <td>80</td>\n",
              "      <td>2PM</td>\n",
              "      <td>Coffee House</td>\n",
              "      <td>2h</td>\n",
              "      <td>Female</td>\n",
              "      <td>21</td>\n",
              "      <td>Unmarried partner</td>\n",
              "      <td>...</td>\n",
              "      <td>never</td>\n",
              "      <td>NaN</td>\n",
              "      <td>4~8</td>\n",
              "      <td>1~3</td>\n",
              "      <td>1</td>\n",
              "      <td>1</td>\n",
              "      <td>0</td>\n",
              "      <td>0</td>\n",
              "      <td>1</td>\n",
              "      <td>0</td>\n",
              "    </tr>\n",
              "    <tr>\n",
              "      <th>4</th>\n",
              "      <td>No Urgent Place</td>\n",
              "      <td>Friend(s)</td>\n",
              "      <td>Sunny</td>\n",
              "      <td>80</td>\n",
              "      <td>2PM</td>\n",
              "      <td>Coffee House</td>\n",
              "      <td>1d</td>\n",
              "      <td>Female</td>\n",
              "      <td>21</td>\n",
              "      <td>Unmarried partner</td>\n",
              "      <td>...</td>\n",
              "      <td>never</td>\n",
              "      <td>NaN</td>\n",
              "      <td>4~8</td>\n",
              "      <td>1~3</td>\n",
              "      <td>1</td>\n",
              "      <td>1</td>\n",
              "      <td>0</td>\n",
              "      <td>0</td>\n",
              "      <td>1</td>\n",
              "      <td>0</td>\n",
              "    </tr>\n",
              "  </tbody>\n",
              "</table>\n",
              "<p>5 rows × 26 columns</p>\n",
              "</div>"
            ],
            "text/plain": [
              "       destination  passanger weather  temperature  time  \\\n",
              "0  No Urgent Place      Alone   Sunny           55   2PM   \n",
              "1  No Urgent Place  Friend(s)   Sunny           80  10AM   \n",
              "2  No Urgent Place  Friend(s)   Sunny           80  10AM   \n",
              "3  No Urgent Place  Friend(s)   Sunny           80   2PM   \n",
              "4  No Urgent Place  Friend(s)   Sunny           80   2PM   \n",
              "\n",
              "                  coupon expiration  gender age      maritalStatus  ...  \\\n",
              "0        Restaurant(<20)         1d  Female  21  Unmarried partner  ...   \n",
              "1           Coffee House         2h  Female  21  Unmarried partner  ...   \n",
              "2  Carry out & Take away         2h  Female  21  Unmarried partner  ...   \n",
              "3           Coffee House         2h  Female  21  Unmarried partner  ...   \n",
              "4           Coffee House         1d  Female  21  Unmarried partner  ...   \n",
              "\n",
              "   CoffeeHouse CarryAway RestaurantLessThan20 Restaurant20To50  \\\n",
              "0        never       NaN                  4~8              1~3   \n",
              "1        never       NaN                  4~8              1~3   \n",
              "2        never       NaN                  4~8              1~3   \n",
              "3        never       NaN                  4~8              1~3   \n",
              "4        never       NaN                  4~8              1~3   \n",
              "\n",
              "  toCoupon_GEQ5min toCoupon_GEQ15min toCoupon_GEQ25min direction_same  \\\n",
              "0                1                 0                 0              0   \n",
              "1                1                 0                 0              0   \n",
              "2                1                 1                 0              0   \n",
              "3                1                 1                 0              0   \n",
              "4                1                 1                 0              0   \n",
              "\n",
              "  direction_opp  Y  \n",
              "0             1  1  \n",
              "1             1  0  \n",
              "2             1  1  \n",
              "3             1  0  \n",
              "4             1  0  \n",
              "\n",
              "[5 rows x 26 columns]"
            ]
          },
          "execution_count": 9,
          "metadata": {},
          "output_type": "execute_result"
        }
      ],
      "source": [
        "data.head()"
      ]
    },
    {
      "cell_type": "markdown",
      "metadata": {
        "id": "GcDs78ZH_qRH"
      },
      "source": [
        "2. Investigate the dataset for missing or problematic data."
      ]
    },
    {
      "cell_type": "code",
      "execution_count": 10,
      "metadata": {
        "id": "6CwL6oWj_qRH"
      },
      "outputs": [
        {
          "name": "stdout",
          "output_type": "stream",
          "text": [
            "<class 'pandas.core.frame.DataFrame'>\n",
            "RangeIndex: 12684 entries, 0 to 12683\n",
            "Data columns (total 26 columns):\n",
            " #   Column                Non-Null Count  Dtype \n",
            "---  ------                --------------  ----- \n",
            " 0   destination           12684 non-null  object\n",
            " 1   passanger             12684 non-null  object\n",
            " 2   weather               12684 non-null  object\n",
            " 3   temperature           12684 non-null  int64 \n",
            " 4   time                  12684 non-null  object\n",
            " 5   coupon                12684 non-null  object\n",
            " 6   expiration            12684 non-null  object\n",
            " 7   gender                12684 non-null  object\n",
            " 8   age                   12684 non-null  object\n",
            " 9   maritalStatus         12684 non-null  object\n",
            " 10  has_children          12684 non-null  int64 \n",
            " 11  education             12684 non-null  object\n",
            " 12  occupation            12684 non-null  object\n",
            " 13  income                12684 non-null  object\n",
            " 14  car                   108 non-null    object\n",
            " 15  Bar                   12577 non-null  object\n",
            " 16  CoffeeHouse           12467 non-null  object\n",
            " 17  CarryAway             12533 non-null  object\n",
            " 18  RestaurantLessThan20  12554 non-null  object\n",
            " 19  Restaurant20To50      12495 non-null  object\n",
            " 20  toCoupon_GEQ5min      12684 non-null  int64 \n",
            " 21  toCoupon_GEQ15min     12684 non-null  int64 \n",
            " 22  toCoupon_GEQ25min     12684 non-null  int64 \n",
            " 23  direction_same        12684 non-null  int64 \n",
            " 24  direction_opp         12684 non-null  int64 \n",
            " 25  Y                     12684 non-null  int64 \n",
            "dtypes: int64(8), object(18)\n",
            "memory usage: 2.5+ MB\n"
          ]
        }
      ],
      "source": [
        "data.info()"
      ]
    },
    {
      "cell_type": "markdown",
      "metadata": {
        "id": "bSdVSpYB_qRH"
      },
      "source": [
        "3. Decide what to do about your missing data -- drop, replace, other..."
      ]
    },
    {
      "cell_type": "code",
      "execution_count": 11,
      "metadata": {
        "id": "tyvoAC5F_qRI"
      },
      "outputs": [],
      "source": [
        "data = data.drop('car', axis = 1)\n"
      ]
    },
    {
      "cell_type": "markdown",
      "metadata": {
        "id": "YE6oJbXd_qRI"
      },
      "source": [
        "4. What proportion of the total observations chose to accept the coupon?\n",
        "\n"
      ]
    },
    {
      "cell_type": "code",
      "execution_count": 43,
      "metadata": {
        "id": "86GGqBTv_qRI"
      },
      "outputs": [
        {
          "name": "stdout",
          "output_type": "stream",
          "text": [
            "7210\n",
            "12684\n",
            "0.5684326710816777\n",
            "0.5684326710816777\n"
          ]
        }
      ],
      "source": [
        "accept = data.loc[data['Y'] == 1].shape[0] \n",
        "total = data.shape[0]\n",
        "print(accept)\n",
        "print(total)\n",
        "# calculate the ratio by deviding the accepted row count by the total row count\n",
        "accept_rate = accept /total \n",
        "print(accept_rate)\n",
        "\n",
        "print(data['Y'].mean()) # using mean() to calculate the rate directly"
      ]
    },
    {
      "cell_type": "markdown",
      "metadata": {
        "id": "vflz0DoE_qRI"
      },
      "source": [
        "5. Use a bar plot to visualize the `coupon` column."
      ]
    },
    {
      "cell_type": "code",
      "execution_count": 23,
      "metadata": {
        "id": "dHFh3E45_qRI"
      },
      "outputs": [
        {
          "name": "stdout",
          "output_type": "stream",
          "text": [
            "coupon\n",
            "Coffee House             3996\n",
            "Restaurant(<20)          2786\n",
            "Carry out & Take away    2393\n",
            "Bar                      2017\n",
            "Restaurant(20-50)        1492\n",
            "Name: count, dtype: int64\n"
          ]
        },
        {
          "data": {
            "image/png": "[encoded data removed]",
            "text/plain": [
              "<Figure size 640x480 with 1 Axes>"
            ]
          },
          "metadata": {},
          "output_type": "display_data"
        }
      ],
      "source": [
        "coupon_count = data[\"coupon\"].value_counts()\n",
        "print(coupon_count)\n",
        "\n",
        "coupon_count.plot(kind='bar')\n",
        "plt.title('Coupon Counts')\n",
        "plt.xlabel('Coupon Type')\n",
        "plt.ylabel('Counts')\n",
        "plt.xticks(rotation=45, ha='right')  # Rotate x-axis labels\n",
        "plt.tight_layout() # Improves layout\n",
        "plt.show()\n"
      ]
    },
    {
      "cell_type": "markdown",
      "metadata": {
        "id": "Qw4lCyx2_qRI"
      },
      "source": [
        "6. Use a histogram to visualize the temperature column."
      ]
    },
    {
      "cell_type": "code",
      "execution_count": 32,
      "metadata": {
        "id": "Yg9Anv71_qRI"
      },
      "outputs": [
        {
          "data": {
            "image/png": "[encoded data removed]",
            "text/plain": [
              "<Figure size 640x480 with 1 Axes>"
            ]
          },
          "metadata": {},
          "output_type": "display_data"
        }
      ],
      "source": [
        "sns.histplot(data['temperature']) \n",
        "plt.title('Temperature Histogram')\n",
        "plt.xlabel('Temperature')\n",
        "plt.ylabel('Frequency')\n",
        "plt.show()\n"
      ]
    },
    {
      "cell_type": "code",
      "execution_count": null,
      "metadata": {
        "id": "zLtOaJQk_qRI"
      },
      "outputs": [],
      "source": []
    },
    {
      "cell_type": "markdown",
      "metadata": {
        "id": "FupfgeJk_qRJ"
      },
      "source": [
        "**Investigating the Bar Coupons**\n",
        "\n",
        "Now, we will lead you through an exploration of just the bar related coupons.  \n",
        "\n",
        "1. Create a new `DataFrame` that contains just the bar coupons.\n"
      ]
    },
    {
      "cell_type": "code",
      "execution_count": 41,
      "metadata": {
        "id": "tMBlWuGq_qRJ"
      },
      "outputs": [
        {
          "data": {
            "text/html": [
              "<div>\n",
              "<style scoped>\n",
              "    .dataframe tbody tr th:only-of-type {\n",
              "        vertical-align: middle;\n",
              "    }\n",
              "\n",
              "    .dataframe tbody tr th {\n",
              "        vertical-align: top;\n",
              "    }\n",
              "\n",
              "    .dataframe thead th {\n",
              "        text-align: right;\n",
              "    }\n",
              "</style>\n",
              "<table border=\"1\" class=\"dataframe\">\n",
              "  <thead>\n",
              "    <tr style=\"text-align: right;\">\n",
              "      <th></th>\n",
              "      <th>destination</th>\n",
              "      <th>passanger</th>\n",
              "      <th>weather</th>\n",
              "      <th>temperature</th>\n",
              "      <th>time</th>\n",
              "      <th>coupon</th>\n",
              "      <th>expiration</th>\n",
              "      <th>gender</th>\n",
              "      <th>age</th>\n",
              "      <th>maritalStatus</th>\n",
              "      <th>...</th>\n",
              "      <th>CoffeeHouse</th>\n",
              "      <th>CarryAway</th>\n",
              "      <th>RestaurantLessThan20</th>\n",
              "      <th>Restaurant20To50</th>\n",
              "      <th>toCoupon_GEQ5min</th>\n",
              "      <th>toCoupon_GEQ15min</th>\n",
              "      <th>toCoupon_GEQ25min</th>\n",
              "      <th>direction_same</th>\n",
              "      <th>direction_opp</th>\n",
              "      <th>Y</th>\n",
              "    </tr>\n",
              "  </thead>\n",
              "  <tbody>\n",
              "    <tr>\n",
              "      <th>9</th>\n",
              "      <td>No Urgent Place</td>\n",
              "      <td>Kid(s)</td>\n",
              "      <td>Sunny</td>\n",
              "      <td>80</td>\n",
              "      <td>10AM</td>\n",
              "      <td>Bar</td>\n",
              "      <td>1d</td>\n",
              "      <td>Female</td>\n",
              "      <td>21</td>\n",
              "      <td>Unmarried partner</td>\n",
              "      <td>...</td>\n",
              "      <td>never</td>\n",
              "      <td>NaN</td>\n",
              "      <td>4~8</td>\n",
              "      <td>1~3</td>\n",
              "      <td>1</td>\n",
              "      <td>1</td>\n",
              "      <td>0</td>\n",
              "      <td>0</td>\n",
              "      <td>1</td>\n",
              "      <td>0</td>\n",
              "    </tr>\n",
              "    <tr>\n",
              "      <th>13</th>\n",
              "      <td>Home</td>\n",
              "      <td>Alone</td>\n",
              "      <td>Sunny</td>\n",
              "      <td>55</td>\n",
              "      <td>6PM</td>\n",
              "      <td>Bar</td>\n",
              "      <td>1d</td>\n",
              "      <td>Female</td>\n",
              "      <td>21</td>\n",
              "      <td>Unmarried partner</td>\n",
              "      <td>...</td>\n",
              "      <td>never</td>\n",
              "      <td>NaN</td>\n",
              "      <td>4~8</td>\n",
              "      <td>1~3</td>\n",
              "      <td>1</td>\n",
              "      <td>0</td>\n",
              "      <td>0</td>\n",
              "      <td>1</td>\n",
              "      <td>0</td>\n",
              "      <td>1</td>\n",
              "    </tr>\n",
              "    <tr>\n",
              "      <th>17</th>\n",
              "      <td>Work</td>\n",
              "      <td>Alone</td>\n",
              "      <td>Sunny</td>\n",
              "      <td>55</td>\n",
              "      <td>7AM</td>\n",
              "      <td>Bar</td>\n",
              "      <td>1d</td>\n",
              "      <td>Female</td>\n",
              "      <td>21</td>\n",
              "      <td>Unmarried partner</td>\n",
              "      <td>...</td>\n",
              "      <td>never</td>\n",
              "      <td>NaN</td>\n",
              "      <td>4~8</td>\n",
              "      <td>1~3</td>\n",
              "      <td>1</td>\n",
              "      <td>1</td>\n",
              "      <td>1</td>\n",
              "      <td>0</td>\n",
              "      <td>1</td>\n",
              "      <td>0</td>\n",
              "    </tr>\n",
              "    <tr>\n",
              "      <th>24</th>\n",
              "      <td>No Urgent Place</td>\n",
              "      <td>Friend(s)</td>\n",
              "      <td>Sunny</td>\n",
              "      <td>80</td>\n",
              "      <td>10AM</td>\n",
              "      <td>Bar</td>\n",
              "      <td>1d</td>\n",
              "      <td>Male</td>\n",
              "      <td>21</td>\n",
              "      <td>Single</td>\n",
              "      <td>...</td>\n",
              "      <td>less1</td>\n",
              "      <td>4~8</td>\n",
              "      <td>4~8</td>\n",
              "      <td>less1</td>\n",
              "      <td>1</td>\n",
              "      <td>0</td>\n",
              "      <td>0</td>\n",
              "      <td>0</td>\n",
              "      <td>1</td>\n",
              "      <td>1</td>\n",
              "    </tr>\n",
              "    <tr>\n",
              "      <th>35</th>\n",
              "      <td>Home</td>\n",
              "      <td>Alone</td>\n",
              "      <td>Sunny</td>\n",
              "      <td>55</td>\n",
              "      <td>6PM</td>\n",
              "      <td>Bar</td>\n",
              "      <td>1d</td>\n",
              "      <td>Male</td>\n",
              "      <td>21</td>\n",
              "      <td>Single</td>\n",
              "      <td>...</td>\n",
              "      <td>less1</td>\n",
              "      <td>4~8</td>\n",
              "      <td>4~8</td>\n",
              "      <td>less1</td>\n",
              "      <td>1</td>\n",
              "      <td>0</td>\n",
              "      <td>0</td>\n",
              "      <td>1</td>\n",
              "      <td>0</td>\n",
              "      <td>1</td>\n",
              "    </tr>\n",
              "    <tr>\n",
              "      <th>39</th>\n",
              "      <td>Work</td>\n",
              "      <td>Alone</td>\n",
              "      <td>Sunny</td>\n",
              "      <td>55</td>\n",
              "      <td>7AM</td>\n",
              "      <td>Bar</td>\n",
              "      <td>1d</td>\n",
              "      <td>Male</td>\n",
              "      <td>21</td>\n",
              "      <td>Single</td>\n",
              "      <td>...</td>\n",
              "      <td>less1</td>\n",
              "      <td>4~8</td>\n",
              "      <td>4~8</td>\n",
              "      <td>less1</td>\n",
              "      <td>1</td>\n",
              "      <td>1</td>\n",
              "      <td>1</td>\n",
              "      <td>0</td>\n",
              "      <td>1</td>\n",
              "      <td>1</td>\n",
              "    </tr>\n",
              "    <tr>\n",
              "      <th>46</th>\n",
              "      <td>No Urgent Place</td>\n",
              "      <td>Friend(s)</td>\n",
              "      <td>Sunny</td>\n",
              "      <td>80</td>\n",
              "      <td>10AM</td>\n",
              "      <td>Bar</td>\n",
              "      <td>1d</td>\n",
              "      <td>Male</td>\n",
              "      <td>46</td>\n",
              "      <td>Single</td>\n",
              "      <td>...</td>\n",
              "      <td>4~8</td>\n",
              "      <td>1~3</td>\n",
              "      <td>1~3</td>\n",
              "      <td>never</td>\n",
              "      <td>1</td>\n",
              "      <td>0</td>\n",
              "      <td>0</td>\n",
              "      <td>0</td>\n",
              "      <td>1</td>\n",
              "      <td>0</td>\n",
              "    </tr>\n",
              "    <tr>\n",
              "      <th>57</th>\n",
              "      <td>Home</td>\n",
              "      <td>Alone</td>\n",
              "      <td>Sunny</td>\n",
              "      <td>55</td>\n",
              "      <td>6PM</td>\n",
              "      <td>Bar</td>\n",
              "      <td>1d</td>\n",
              "      <td>Male</td>\n",
              "      <td>46</td>\n",
              "      <td>Single</td>\n",
              "      <td>...</td>\n",
              "      <td>4~8</td>\n",
              "      <td>1~3</td>\n",
              "      <td>1~3</td>\n",
              "      <td>never</td>\n",
              "      <td>1</td>\n",
              "      <td>0</td>\n",
              "      <td>0</td>\n",
              "      <td>1</td>\n",
              "      <td>0</td>\n",
              "      <td>0</td>\n",
              "    </tr>\n",
              "    <tr>\n",
              "      <th>61</th>\n",
              "      <td>Work</td>\n",
              "      <td>Alone</td>\n",
              "      <td>Sunny</td>\n",
              "      <td>55</td>\n",
              "      <td>7AM</td>\n",
              "      <td>Bar</td>\n",
              "      <td>1d</td>\n",
              "      <td>Male</td>\n",
              "      <td>46</td>\n",
              "      <td>Single</td>\n",
              "      <td>...</td>\n",
              "      <td>4~8</td>\n",
              "      <td>1~3</td>\n",
              "      <td>1~3</td>\n",
              "      <td>never</td>\n",
              "      <td>1</td>\n",
              "      <td>1</td>\n",
              "      <td>1</td>\n",
              "      <td>0</td>\n",
              "      <td>1</td>\n",
              "      <td>0</td>\n",
              "    </tr>\n",
              "    <tr>\n",
              "      <th>75</th>\n",
              "      <td>No Urgent Place</td>\n",
              "      <td>Kid(s)</td>\n",
              "      <td>Sunny</td>\n",
              "      <td>80</td>\n",
              "      <td>10AM</td>\n",
              "      <td>Bar</td>\n",
              "      <td>1d</td>\n",
              "      <td>Male</td>\n",
              "      <td>46</td>\n",
              "      <td>Married partner</td>\n",
              "      <td>...</td>\n",
              "      <td>1~3</td>\n",
              "      <td>1~3</td>\n",
              "      <td>1~3</td>\n",
              "      <td>less1</td>\n",
              "      <td>1</td>\n",
              "      <td>1</td>\n",
              "      <td>0</td>\n",
              "      <td>0</td>\n",
              "      <td>1</td>\n",
              "      <td>1</td>\n",
              "    </tr>\n",
              "  </tbody>\n",
              "</table>\n",
              "<p>10 rows × 25 columns</p>\n",
              "</div>"
            ],
            "text/plain": [
              "        destination  passanger weather  temperature  time coupon expiration  \\\n",
              "9   No Urgent Place     Kid(s)   Sunny           80  10AM    Bar         1d   \n",
              "13             Home      Alone   Sunny           55   6PM    Bar         1d   \n",
              "17             Work      Alone   Sunny           55   7AM    Bar         1d   \n",
              "24  No Urgent Place  Friend(s)   Sunny           80  10AM    Bar         1d   \n",
              "35             Home      Alone   Sunny           55   6PM    Bar         1d   \n",
              "39             Work      Alone   Sunny           55   7AM    Bar         1d   \n",
              "46  No Urgent Place  Friend(s)   Sunny           80  10AM    Bar         1d   \n",
              "57             Home      Alone   Sunny           55   6PM    Bar         1d   \n",
              "61             Work      Alone   Sunny           55   7AM    Bar         1d   \n",
              "75  No Urgent Place     Kid(s)   Sunny           80  10AM    Bar         1d   \n",
              "\n",
              "    gender age      maritalStatus  ...  CoffeeHouse CarryAway  \\\n",
              "9   Female  21  Unmarried partner  ...        never       NaN   \n",
              "13  Female  21  Unmarried partner  ...        never       NaN   \n",
              "17  Female  21  Unmarried partner  ...        never       NaN   \n",
              "24    Male  21             Single  ...        less1       4~8   \n",
              "35    Male  21             Single  ...        less1       4~8   \n",
              "39    Male  21             Single  ...        less1       4~8   \n",
              "46    Male  46             Single  ...          4~8       1~3   \n",
              "57    Male  46             Single  ...          4~8       1~3   \n",
              "61    Male  46             Single  ...          4~8       1~3   \n",
              "75    Male  46    Married partner  ...          1~3       1~3   \n",
              "\n",
              "   RestaurantLessThan20 Restaurant20To50 toCoupon_GEQ5min toCoupon_GEQ15min  \\\n",
              "9                   4~8              1~3                1                 1   \n",
              "13                  4~8              1~3                1                 0   \n",
              "17                  4~8              1~3                1                 1   \n",
              "24                  4~8            less1                1                 0   \n",
              "35                  4~8            less1                1                 0   \n",
              "39                  4~8            less1                1                 1   \n",
              "46                  1~3            never                1                 0   \n",
              "57                  1~3            never                1                 0   \n",
              "61                  1~3            never                1                 1   \n",
              "75                  1~3            less1                1                 1   \n",
              "\n",
              "   toCoupon_GEQ25min direction_same direction_opp  Y  \n",
              "9                  0              0             1  0  \n",
              "13                 0              1             0  1  \n",
              "17                 1              0             1  0  \n",
              "24                 0              0             1  1  \n",
              "35                 0              1             0  1  \n",
              "39                 1              0             1  1  \n",
              "46                 0              0             1  0  \n",
              "57                 0              1             0  0  \n",
              "61                 1              0             1  0  \n",
              "75                 0              0             1  1  \n",
              "\n",
              "[10 rows x 25 columns]"
            ]
          },
          "execution_count": 41,
          "metadata": {},
          "output_type": "execute_result"
        }
      ],
      "source": [
        "df_bar = data.query('coupon == \"Bar\"')\n",
        "# df_bar.shape\n",
        "df_bar.head(10)"
      ]
    },
    {
      "cell_type": "markdown",
      "metadata": {
        "id": "8ue6uCqf_qRJ"
      },
      "source": [
        "2. What proportion of bar coupons were accepted?\n"
      ]
    },
    {
      "cell_type": "code",
      "execution_count": 42,
      "metadata": {
        "id": "hSdte8Mi_qRK"
      },
      "outputs": [
        {
          "name": "stdout",
          "output_type": "stream",
          "text": [
            "0.41001487357461575\n"
          ]
        }
      ],
      "source": [
        "bar_accept_rate = df_bar['Y'].mean()\n",
        "print(bar_accept_rate)"
      ]
    },
    {
      "cell_type": "markdown",
      "metadata": {
        "id": "85nA_iEi_qRK"
      },
      "source": [
        "3. Compare the acceptance rate between those who went to a bar 3 or fewer times a month to those who went more.\n"
      ]
    },
    {
      "cell_type": "code",
      "execution_count": 59,
      "metadata": {
        "id": "LBOrN-XM_qRK"
      },
      "outputs": [
        {
          "name": "stdout",
          "output_type": "stream",
          "text": [
            "0.37061769616026713\n",
            "0.7688442211055276\n"
          ]
        }
      ],
      "source": [
        "df_bar['Bar'].value_counts()\n",
        "# create filtering masks\n",
        "less_or_equal_3 = (df_bar['Bar'] == 'never') | (df_bar['Bar'] == 'less1') | (df_bar['Bar'] == '1~3')\n",
        "more_than_3 = (df_bar['Bar'] == '4~8') | (df_bar['Bar'] == 'gt8')\n",
        "\n",
        "accept_rate_less_than_3 = df_bar.loc[less_or_equal_3, 'Y'].mean()\n",
        "accept_rate_more_than_3 = df_bar.loc[more_than_3, 'Y'].mean()\n",
        "\n",
        "print(accept_rate_less_than_3)\n",
        "print(accept_rate_more_than_3)\n",
        "\n"
      ]
    },
    {
      "cell_type": "markdown",
      "metadata": {
        "id": "RBgcQwH4_qRK"
      },
      "source": [
        "4. Compare the acceptance rate between drivers who go to a bar more than once a month and are over the age of 25 to the all others.  Is there a difference?\n"
      ]
    },
    {
      "cell_type": "code",
      "execution_count": 68,
      "metadata": {
        "id": "bf28bbeX_qRK"
      },
      "outputs": [
        {
          "name": "stdout",
          "output_type": "stream",
          "text": [
            "0.6952380952380952\n",
            "0.33500313087038197\n"
          ]
        }
      ],
      "source": [
        "# df_bar['age'].value_counts()\n",
        "# df_bar.info()\n",
        "# create filtering masks\n",
        "# df_bar['age'] = df_bar['age'].astype('int64')\n",
        "more_than_1 = (df_bar['Bar'] == '1~3') | (df_bar['Bar'] == '4~8') | (df_bar['Bar'] == 'gt8')\n",
        "age_less_than_25 = (df_bar['age'] == '21') | (df_bar['age'] == 'below21')\n",
        "mask = more_than_1 & ~age_less_than_25\n",
        "\n",
        "accept_rate_over_25_n_go_to_bar = df_bar.loc[mask, 'Y'].mean()\n",
        "accept_rate_other = df_bar.loc[~mask, 'Y'].mean()\n",
        "\n",
        "print(accept_rate_over_25_n_go_to_bar)\n",
        "print(accept_rate_other)"
      ]
    },
    {
      "cell_type": "markdown",
      "metadata": {
        "id": "S4RKT4PJ_qRK"
      },
      "source": [
        "5. Use the same process to compare the acceptance rate between drivers who go to bars more than once a month and had passengers that were not a kid and had occupations other than farming, fishing, or forestry.\n"
      ]
    },
    {
      "cell_type": "code",
      "execution_count": 75,
      "metadata": {
        "id": "sENaI2Tg_qRK"
      },
      "outputs": [
        {
          "name": "stdout",
          "output_type": "stream",
          "text": [
            "0.7132486388384754\n",
            "0.296043656207367\n"
          ]
        }
      ],
      "source": [
        "# df_bar['passanger'].value_counts()\n",
        "# df_bar['occupation'].value_counts()\n",
        "\n",
        "with_kids_passanger = df_bar['passanger'] == 'Kid(s)'\n",
        "occupation_farming_fishing_forestry = df_bar['occupation'] == 'Farming Fishing & Forestry'\n",
        "\n",
        "combined_mask = more_than_1 & ~with_kids_passanger & ~occupation_farming_fishing_forestry\n",
        "\n",
        "accept_rate_with_combined_mask = df_bar.loc[combined_mask, 'Y'].mean()\n",
        "accept_rate_otherwise = df_bar.loc[~combined_mask, 'Y'].mean()\n",
        "\n",
        "print(accept_rate_with_combined_mask)\n",
        "print(accept_rate_otherwise)\n",
        "\n"
      ]
    },
    {
      "cell_type": "markdown",
      "metadata": {
        "id": "n2LIUTil_qRK"
      },
      "source": [
        "6. Compare the acceptance rates between those drivers who:\n",
        "\n",
        "- go to bars more than once a month, had passengers that were not a kid, and were not widowed *OR*\n",
        "- go to bars more than once a month and are under the age of 30 *OR*\n",
        "- go to cheap restaurants more than 4 times a month and income is less than 50K.\n",
        "\n"
      ]
    },
    {
      "cell_type": "code",
      "execution_count": 84,
      "metadata": {
        "id": "aK_wEzx7_qRK"
      },
      "outputs": [
        {
          "name": "stdout",
          "output_type": "stream",
          "text": [
            "0.7132486388384754\n",
            "0.7217391304347827\n",
            "0.39919354838709675\n"
          ]
        }
      ],
      "source": [
        "# df_bar['income'].value_counts()\n",
        "# df_bar.info()\n",
        "\n",
        "is_widowed = df_bar['maritalStatus'] == 'Widowed'\n",
        "age_less_than_30 = (df_bar['age'] == '21') | (df_bar['age'] == 'below21') | (df_bar['age'] == '26')\n",
        "cheap_restaurant_more_than_4 = (df_bar['RestaurantLessThan20'] == '4~8') | (df_bar['RestaurantLessThan20'] == 'gt8 ') \n",
        "income_less_than_50k = (df_bar['income'] == \"Less than $12500\") | (df_bar['income'] == \"$12500 - $24999\") | (df_bar['income'] == \"$25000 - $37499\") | (df_bar['income'] == \"$37500 - $49999\") \n",
        "\n",
        "mask_1 = more_than_1 & ~with_kids_passanger & ~is_widowed\n",
        "mask_2 = more_than_1 & age_less_than_30\n",
        "mask_3 = cheap_restaurant_more_than_4 & income_less_than_50k\n",
        "\n",
        "accept_rate_with_mask_1 = df_bar.loc[mask_1, 'Y'].mean()\n",
        "accept_rate_with_mask_2 = df_bar.loc[mask_2, 'Y'].mean()\n",
        "accept_rate_with_mask_3 = df_bar.loc[mask_3, 'Y'].mean()\n",
        "\n",
        "print(accept_rate_with_mask_1)\n",
        "print(accept_rate_with_mask_2)\n",
        "print(accept_rate_with_mask_3)\n"
      ]
    },
    {
      "cell_type": "markdown",
      "metadata": {
        "id": "v3fL3QkO_qRK"
      },
      "source": [
        "7.  Based on these observations, what do you hypothesize about drivers who accepted the bar coupons?"
      ]
    },
    {
      "cell_type": "code",
      "execution_count": null,
      "metadata": {
        "id": "Y48naDFh_qRL"
      },
      "outputs": [],
      "source": [
        "'''\n",
        "My conclusion on drivers who has higher chances of taking Bar coupons are:\n",
        "drivers who go to bar more frequently\n",
        "drivers who have passengers other than kids\n",
        "drivers whose income is relative higher\n",
        "'''"
      ]
    },
    {
      "cell_type": "markdown",
      "metadata": {
        "id": "r4Hu1zOb_qRL"
      },
      "source": [
        "### Independent Investigation\n",
        "\n",
        "Using the bar coupon example as motivation, you are to explore one of the other coupon groups and try to determine the characteristics of passengers who accept the coupons.  \n",
        "\n",
        "1. Create a new `DataFrame`, `df_coffee` that contains just the `Coffee House` coupons."
      ]
    },
    {
      "cell_type": "code",
      "execution_count": 94,
      "metadata": {
        "id": "0c71cQhu_qRL"
      },
      "outputs": [
        {
          "name": "stdout",
          "output_type": "stream",
          "text": [
            "<class 'pandas.core.frame.DataFrame'>\n",
            "Index: 3996 entries, 1 to 12681\n",
            "Data columns (total 25 columns):\n",
            " #   Column                Non-Null Count  Dtype \n",
            "---  ------                --------------  ----- \n",
            " 0   destination           3996 non-null   object\n",
            " 1   passanger             3996 non-null   object\n",
            " 2   weather               3996 non-null   object\n",
            " 3   temperature           3996 non-null   int64 \n",
            " 4   time                  3996 non-null   object\n",
            " 5   coupon                3996 non-null   object\n",
            " 6   expiration            3996 non-null   object\n",
            " 7   gender                3996 non-null   object\n",
            " 8   age                   3996 non-null   object\n",
            " 9   maritalStatus         3996 non-null   object\n",
            " 10  has_children          3996 non-null   int64 \n",
            " 11  education             3996 non-null   object\n",
            " 12  occupation            3996 non-null   object\n",
            " 13  income                3996 non-null   object\n",
            " 14  Bar                   3959 non-null   object\n",
            " 15  CoffeeHouse           3924 non-null   object\n",
            " 16  CarryAway             3939 non-null   object\n",
            " 17  RestaurantLessThan20  3946 non-null   object\n",
            " 18  Restaurant20To50      3941 non-null   object\n",
            " 19  toCoupon_GEQ5min      3996 non-null   int64 \n",
            " 20  toCoupon_GEQ15min     3996 non-null   int64 \n",
            " 21  toCoupon_GEQ25min     3996 non-null   int64 \n",
            " 22  direction_same        3996 non-null   int64 \n",
            " 23  direction_opp         3996 non-null   int64 \n",
            " 24  Y                     3996 non-null   int64 \n",
            "dtypes: int64(8), object(17)\n",
            "memory usage: 811.7+ KB\n"
          ]
        }
      ],
      "source": [
        "\n",
        "df_coffee = data.query('coupon == \"Coffee House\"')\n",
        "df_coffee.head(10)\n",
        "df_coffee.info()\n"
      ]
    },
    {
      "cell_type": "markdown",
      "metadata": {},
      "source": [
        "2. Quickly take a look at some of the acceptance rate for each value type for some of the columns. "
      ]
    },
    {
      "cell_type": "code",
      "execution_count": 122,
      "metadata": {
        "id": "QEsBkvIN_qRL"
      },
      "outputs": [
        {
          "name": "stdout",
          "output_type": "stream",
          "text": [
            "destination\n",
            "No Urgent Place    0.580974\n",
            "Work               0.445783\n",
            "Home               0.362069\n",
            "Name: Y, dtype: float64\n",
            "passanger\n",
            "Friend(s)    0.596906\n",
            "Partner      0.570492\n",
            "Kid(s)       0.483092\n",
            "Alone        0.437943\n",
            "Name: Y, dtype: float64\n",
            "CoffeeHouse\n",
            "4~8      0.685874\n",
            "gt8      0.657895\n",
            "1~3      0.647793\n",
            "less1    0.481860\n",
            "never    0.188781\n",
            "Name: Y, dtype: float64\n",
            "occupation\n",
            "Healthcare Practitioners & Technical         0.743243\n",
            "Building & Grounds Cleaning & Maintenance    0.727273\n",
            "Student                                      0.625251\n",
            "Transportation & Material Moving             0.618421\n",
            "Healthcare Support                           0.615385\n",
            "Installation Maintenance & Repair            0.568182\n",
            "Architecture & Engineering                   0.555556\n",
            "Farming Fishing & Forestry                   0.545455\n",
            "Unemployed                                   0.542105\n",
            "Arts Design Entertainment Sports & Media     0.507177\n",
            "Computer & Mathematical                      0.503341\n",
            "Personal Care & Service                      0.500000\n",
            "Business & Financial                         0.479452\n",
            "Construction & Extraction                    0.478261\n",
            "Life Physical Social Science                 0.475410\n",
            "Management                                   0.456376\n",
            "Protective Service                           0.448276\n",
            "Food Preparation & Serving Related           0.445783\n",
            "Education&Training&Library                   0.435811\n",
            "Office & Administrative Support              0.431472\n",
            "Retired                                      0.402439\n",
            "Sales & Related                              0.391549\n",
            "Legal                                        0.376812\n",
            "Production Occupations                       0.357143\n",
            "Community & Social Services                  0.351351\n",
            "Name: Y, dtype: float64\n"
          ]
        },
        {
          "data": {
            "image/png": "[encoded data removed]",
            "text/plain": [
              "<Figure size 640x480 with 1 Axes>"
            ]
          },
          "metadata": {},
          "output_type": "display_data"
        }
      ],
      "source": [
        "# df_coffee['destination'].value_counts()\n",
        "# print(df_coffee.groupby('destination')['Y'].mean().sort_values(ascending=False))\n",
        "# print(df_coffee.groupby('passanger')['Y'].mean().sort_values(ascending=False))\n",
        "# print(df_coffee.groupby('CoffeeHouse')['Y'].mean().sort_values(ascending=False))\n",
        "# print(df_coffee.groupby('occupation')['Y'].mean().sort_values(ascending=False))\n",
        "\n",
        "for col in ('destination', 'passanger', 'CoffeeHouse', 'occupation'):\n",
        "    sub_df = df_coffee.groupby(col)['Y'].mean()\n",
        "    sub_df.plot(kind='bar')\n",
        "    plt.title('Acceptance rate based on ' + col)\n",
        "    plt.xlabel(col)\n",
        "    plt.ylabel('acceptance rate')\n",
        "    plt.xticks(rotation=45, ha='right')  # Rotate x-axis labels\n",
        "    plt.show()"
      ]
    },
    {
      "cell_type": "markdown",
      "metadata": {},
      "source": [
        "3. Create masks and get acceptance rate for drivers who goes to coffee house more than once every month and occupation is either in `Healthcare` or is `building` related"
      ]
    },
    {
      "cell_type": "code",
      "execution_count": 113,
      "metadata": {
        "id": "fTC2WGE3_qRL"
      },
      "outputs": [
        {
          "name": "stdout",
          "output_type": "stream",
          "text": [
            "0.9\n",
            "0.4941713127217435\n"
          ]
        }
      ],
      "source": [
        "# create boolean masks\n",
        "go_to_coffee_more_than_1 = (df_coffee['CoffeeHouse'] == '1~3') | (df_coffee['CoffeeHouse'] == '4~8') | (df_coffee['CoffeeHouse'] == 'gt8')\n",
        "occupation_building_or_Healthcare = (df_coffee['occupation'] == 'Healthcare Practitioners & Technical') | (df_coffee['occupation'] == 'Healthcare Practitioners & Technical')\n",
        "\n",
        "mask_1 = go_to_coffee_more_than_1 & occupation_building_or_Healthcare\n",
        "\n",
        "rate_1 = df_coffee.loc[mask_1, 'Y'].mean()\n",
        "rate_2 = df_coffee.loc[~mask_1, 'Y'].mean()\n",
        "\n",
        "print(rate_1)\n",
        "print(rate_2)\n",
        "\n"
      ]
    },
    {
      "cell_type": "markdown",
      "metadata": {},
      "source": [
        "4. Silimarly, create more masks and get acceptance rate for differen combination of the filters."
      ]
    },
    {
      "cell_type": "code",
      "execution_count": 107,
      "metadata": {
        "id": "RrqUWn7d_qRL"
      },
      "outputs": [
        {
          "name": "stdout",
          "output_type": "stream",
          "text": [
            "0.5809744779582366\n",
            "0.4035850081477458\n",
            "1.0\n"
          ]
        }
      ],
      "source": [
        "no_urgent = df_coffee['destination'] == 'No Urgent Place'\n",
        "\n",
        "accept_rate_with_no_urgent = df_coffee.loc[no_urgent, 'Y'].mean()\n",
        "accept_rate_home_or_work = df_coffee.loc[~no_urgent, 'Y'].mean()\n",
        "\n",
        "print(accept_rate_with_no_urgent)\n",
        "print(accept_rate_home_or_work)\n",
        "\n",
        "mask2 = mask_1 & no_urgent\n",
        "\n",
        "accept_rate_mask_2 = df_coffee.loc[mask2, 'Y'].mean()\n",
        "print(accept_rate_mask_2)\n",
        "\n"
      ]
    },
    {
      "cell_type": "markdown",
      "metadata": {},
      "source": [
        "5. Come out with some conclusions. "
      ]
    },
    {
      "cell_type": "code",
      "execution_count": null,
      "metadata": {
        "id": "_oykf8YP_qRL"
      },
      "outputs": [],
      "source": [
        "'''\n",
        "My conclusion on drivers who has higher chances of taking coffee house coupons are:\n",
        "drivers who go to coffee house more frequently\n",
        "drivers who worked in building or health care\n",
        "drivers whose destination is not an urgent place\n",
        "'''"
      ]
    }
  ],
  "metadata": {
    "colab": {
      "provenance": []
    },
    "kernelspec": {
      "display_name": "base",
      "language": "python",
      "name": "python3"
    },
    "language_info": {
      "codemirror_mode": {
        "name": "ipython",
        "version": 3
      },
      "file_extension": ".py",
      "mimetype": "text/x-python",
      "name": "python",
      "nbconvert_exporter": "python",
      "pygments_lexer": "ipython3",
      "version": "3.12.7"
    }
  },
  "nbformat": 4,
  "nbformat_minor": 0
}
